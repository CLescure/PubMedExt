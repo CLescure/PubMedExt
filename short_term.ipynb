{
 "cells": [
  {
   "cell_type": "code",
   "execution_count": 1,
   "metadata": {},
   "outputs": [
    {
     "name": "stderr",
     "output_type": "stream",
     "text": [
      "[nltk_data] Downloading package wordnet to\n",
      "[nltk_data]     C:\\Users\\charl\\AppData\\Roaming\\nltk_data...\n",
      "[nltk_data]   Package wordnet is already up-to-date!\n"
     ]
    }
   ],
   "source": [
    "from pymed import PubMed\n",
    "import pandas as pd\n",
    "import nltk\n",
    "nltk.download('wordnet')\n",
    "from nltk.tokenize import RegexpTokenizer\n",
    "from nltk.stem import WordNetLemmatizer"
   ]
  },
  {
   "cell_type": "code",
   "execution_count": 2,
   "metadata": {},
   "outputs": [],
   "source": [
    "email = \"charles.lescure@polytechnique.edu\"\n",
    "pubmed = PubMed(tool=\"genes\", email=email)"
   ]
  },
  {
   "cell_type": "code",
   "execution_count": 3,
   "metadata": {},
   "outputs": [
    {
     "name": "stdout",
     "output_type": "stream",
     "text": [
      "Circ-METTL15 contributes to the proliferation, metastasis, immune escape and restrains apoptosis in lung cancer by regulating miR-1299/PDL1 axis.\n",
      "Circular RNAs (circRNAs) are important regulators in the pathogenesis of lung cancer. The study aims to explore the function and mechanism of circRNA methyltransferase-like 15 (circ-METTL15) in lung cancer development.\n",
      "The expression of circ-METTL15, miR-1299 and programmed death-ligand 1 (PDL1) were investigated by qRT-PCR assay. Cell viability, colony formation, cell proliferation and invasion were determined by MTT, colony formation, EDU incorporation and transwell assays, respectively. Cell apoptosis was attested by flow cytometry and TUNEL assays. Interferon-γ (IFN-γ) and Tumour Necrosis Factor-α (TNF-α) production were tested by enzyme-linked immunosorbent assay (ELISA), and the survival rate of cancer cells was assessed by cytotoxicity analysis. The protein expression was examined by western blot or immunohistochemistry (IHC) assay. The interaction between miR-1299 and circ-METTL15 or PDL1 was confirmed \n",
      "Circ-METTL15 was upregulated in lung cancer tissues and cells. Circ-METTL15 silencing suppressed cell proliferation, colony formation, invasion, immune escape and promoted cell apoptosis in lung cancer cells. Circ-METTL15 was a sponge of miR-1299, and it could exert regulatory function in lung cancer \n",
      "Circ-METTL15 promoted lung cancer malignant progression at least partly through modulating PDL1 by sponging miR-1299.\n",
      "Autoimmunity\n",
      "2021\n",
      "['Lung cancer', 'PDL1', 'circ-METTL15', 'immune escape', 'miR-1299']\n",
      "Explore association of genes in PDL1/PD1 pathway to radiotherapy survival benefit based on interaction model strategy.\n",
      "To explore the association of genes in \"PD-L1 expression and PD-1 check point pathway in cancer\" to radiotherapy survival benefit.\n",
      "Gene expression data and clinical information of cancers were downloaded from TCGA. Radiotherapy survival benefit was defined based on interaction model. Fast backward multivariate Cox regression was performed using stacking multiple interpolation data to identify radio-sensitive (RS) genes.\n",
      "Among the 73 genes in PD-L1/PD-1 pathway, we identified 24 RS genes in BRCA data set, 25 RS genes in STAD data set and 20 RS genes in HNSC data set, with some crossover genes. Theoretically, there are two types of RS genes. The expression level of Type I RS genes did not affect patients' overall survival (OS), but when receiving radiotherapy, patients with different expression level of Type I RS genes had varied survival benefit. Oppositely, Type II RS genes affected patients' OS. And when receiving radiotherapy, those with lower OS could benefit a lot. Type II RS genes in BRCA had strong positive correlation and closely biological interactions. When performing cluster analysis using these related Type II RS genes, patients could be divided into RS group and non-RS group in BRCA and METABRIC data sets.\n",
      "Our study explored potential radio-sensitive biomarkers of several main cancer types in an important tumor immune checkpoint pathway and revealed a strong association between this pathway and radiotherapy survival benefit. New types of RS genes could be identified based on expanded definition to RS genes.\n",
      "Radiation oncology (London, England)\n",
      "2021\n",
      "['Cancers', 'Gene biomarkers', 'Interaction model', 'PD-1 check point pathway', 'Radio-sensitivity']\n"
     ]
    }
   ],
   "source": [
    "# Demo of pubmed: get journal info for 2 papers\n",
    "def print_journal_info(paper):\n",
    "    print(paper.title)\n",
    "    print(paper.abstract)\n",
    "    print(paper.journal)\n",
    "    print(paper.publication_date.year)\n",
    "    print(paper.keywords)\n",
    "\n",
    "results = pubmed.query(\"PDL1\", max_results=2)\n",
    "for paper in results:\n",
    "    print_journal_info(paper)"
   ]
  },
  {
   "cell_type": "code",
   "execution_count": 4,
   "metadata": {
    "pycharm": {
     "name": "#%%\n"
    }
   },
   "outputs": [
    {
     "name": "stdout",
     "output_type": "stream",
     "text": [
      "True\n",
      "True\n",
      "True\n",
      "True\n",
      "True\n",
      "True\n",
      "True\n",
      "True\n",
      "True\n",
      "True\n",
      "True\n",
      "True\n",
      "True\n",
      "True\n",
      "True\n",
      "True\n",
      "True\n",
      "True\n",
      "True\n"
     ]
    }
   ],
   "source": [
    "organs_list = [\"bladder\", \"brain\", \"breast\", \"cervical\", \"liver\", \"colon\", \"esophagus\", \"kidney\",\n",
    "                \"lung\", \"ovarian\", \"pancreatic\", \"prostate\", \"rectum\", \"stomach\", \"testicular\",\n",
    "                \"thyroid\", \"uterine\", \"melanoma\", \"leukemia\"]\n",
    "\n",
    "# Abstracts will be lemmatized, we need to check that we won't miss cancer types because of it\n",
    "tokenizer = RegexpTokenizer(r'\\w+')\n",
    "lemmatizer = WordNetLemmatizer()\n",
    "for org in organs_list:\n",
    "    print(org == lemmatizer.lemmatize(org))"
   ]
  },
  {
   "cell_type": "code",
   "execution_count": 5,
   "metadata": {
    "pycharm": {
     "name": "#%%\n"
    }
   },
   "outputs": [
    {
     "name": "stdout",
     "output_type": "stream",
     "text": [
      "['A1BG', 'A1CF', 'A2M', 'A2ML1', 'A3GALT2']\n",
      "True\n",
      "53745\n"
     ]
    }
   ],
   "source": [
    "# Loading list of genes\n",
    "def load_genes(genes_path):\n",
    "    genes = pd.read_csv(genes_path, sep='\\t', dtype='str')\n",
    "    genes_list = list(genes.symbol)\n",
    "    for aliases in genes.alias_symbol.values.astype('str'):\n",
    "        for alias in aliases.split('|'):\n",
    "            if alias!='nan':\n",
    "                genes_list.append(alias)\n",
    "    return genes_list\n",
    "\n",
    "genes_path = \"./gene_with_protein_product.txt\"\n",
    "genes_list = load_genes(genes_path)\n",
    "\n",
    "print(genes_list[:5])\n",
    "print('PDL1' in genes_list)\n",
    "print(len(genes_list))"
   ]
  },
  {
   "cell_type": "code",
   "execution_count": 6,
   "metadata": {
    "pycharm": {
     "name": "#%%\n"
    }
   },
   "outputs": [],
   "source": [
    "# Main function\n",
    "def get_types_and_genes(q, max_results=100, organs_list=organs_list, verbose=1, buzz_words={'cancer'}):\n",
    "    \"\"\"\n",
    "    q: query\n",
    "    max_results: max number of papers to get from PubMed\n",
    "    organs_list: list of cancer types (most of them are organs, but not all of them)\n",
    "    verbose: 0, 1 or 2 depending on how much we want to print\n",
    "    buzz_words: words that flag an abstract as relevant. Abstracts without any buzz words won't be considered.\n",
    "    \"\"\"\n",
    "    papers = pubmed.query(q, max_results=max_results)\n",
    "    gen_count = {}\n",
    "    org_count = {}\n",
    "    cancer_papers = []\n",
    "    tokenizer = RegexpTokenizer(r'\\w+')\n",
    "    lemmatizer = WordNetLemmatizer()\n",
    "    buzz_words = set(buzz_words) # set of words that should flag a paper as relevant\n",
    "\n",
    "    for paper in papers:\n",
    "        abst = paper.abstract\n",
    "        if abst is None:\n",
    "            continue\n",
    "        tokenized1 = set(tokenizer.tokenize(abst.lower())) # Convert to list of words without caps or punctuation\n",
    "        words = {lemmatizer.lemmatize(w) for w in tokenized1} # reduce words to their canonical form\n",
    "\n",
    "        if buzz_words.intersection(words) != set():\n",
    "            if verbose>1:\n",
    "                print(paper.title)\n",
    "            cancer_papers.append(paper)\n",
    "\n",
    "            tokenized2 = set(tokenizer.tokenize(abst)) # Remove punctuation but not caps\n",
    "            genes = tokenized2.intersection(genes_list) # find associated genes\n",
    "\n",
    "            organs = words.intersection(organs_list) # find associated organs (assumably cancer types)\n",
    "\n",
    "            # Count papers containing associated genes and cancer types\n",
    "            if organs != set():\n",
    "                if verbose>1:\n",
    "                    print(organs)\n",
    "                for organ in organs:\n",
    "                    if organ not in org_count.keys():\n",
    "                        org_count[organ] = 1\n",
    "                    else:\n",
    "                        org_count[organ] += 1\n",
    "            if genes != set():\n",
    "                if verbose>1:\n",
    "                    print(genes)\n",
    "                for gene in genes:\n",
    "                    if gene != q:\n",
    "                        if gene not in list(gen_count.keys()):\n",
    "                            gen_count[gene] = 1\n",
    "                        else:\n",
    "                            gen_count[gene] += 1\n",
    "    if verbose > 0:\n",
    "        print(f\"Found {len(cancer_papers)} relevant papers\")\n",
    "\n",
    "    # Sort results by count to get most associated genes and cancer types first\n",
    "    org_count = dict(sorted(org_count.items(), key=lambda x:-x[1]))\n",
    "    gen_count = dict(sorted(gen_count.items(), key=lambda x:-x[1]))\n",
    "\n",
    "    if verbose > 0:\n",
    "        print(len(org_count), 'associated cancer types')\n",
    "        print(org_count)\n",
    "        print(len(gen_count), 'associated genes')\n",
    "        print(gen_count)\n",
    "    return cancer_papers, org_count, gen_count"
   ]
  },
  {
   "cell_type": "code",
   "execution_count": 7,
   "metadata": {
    "pycharm": {
     "name": "#%%\n"
    }
   },
   "outputs": [
    {
     "name": "stdout",
     "output_type": "stream",
     "text": [
      "Found 60 relevant papers\n",
      "16 associated cancer types\n",
      "{'lung': 16, 'breast': 12, 'melanoma': 7, 'liver': 4, 'bladder': 4, 'prostate': 3, 'cervical': 3, 'brain': 2, 'colon': 2, 'kidney': 2, 'rectum': 1, 'testicular': 1, 'uterine': 1, 'pancreatic': 1, 'stomach': 1, 'leukemia': 1}\n",
      "110 associated genes\n",
      "{'PD1': 17, 'CTLA4': 7, 'CD4': 6, 'OS': 5, 'B': 4, 'LAG3': 4, 'IFN': 3, 'HCC': 3, 'M1': 3, 'TNF': 2, 'spatial': 2, 'CD274': 2, 'BRAF': 2, 'KRAS': 2, 'FOXP3': 2, 'p53': 2, 'TIGIT': 2, 'PDCD1': 2, 'P3': 2, 'METTL15': 1, 'RS': 1, 'DSP': 1, 'MB': 1, 'H1': 1, 'SAP': 1, 'B7': 1, 'CIT': 1, 'Ki': 1, 'LSD1': 1, 'DCR': 1, 'HR': 1, 'GO': 1, 'GPI': 1, 'PGK1': 1, 'RPE': 1, 'CD25': 1, 'HER2': 1, 'CSNK2A1': 1, 'COL5A1': 1, 'EFNA3': 1, 'CCNA2': 1, 'PDL2': 1, 'PSA': 1, 'CD5L': 1, 'EGFR': 1, 'p65': 1, 'NF': 1, 'SRF': 1, 'MDM4': 1, 'MDM2': 1, 'STC1': 1, 'ADP': 1, 'PARP1': 1, 'ER': 1, 'GZMB': 1, 'HAVCR2': 1, 'CXCL9': 1, 'AKT': 1, 'PI3K': 1, 'KCNJ12': 1, 'SLC6A11': 1, 'ALPP': 1, 'FOLR3': 1, 'IGFN1': 1, 'FOXM1': 1, 'AFP': 1, 'GPC3': 1, 'ROBO1': 1, 'NRAS': 1, 'NIR': 1, 'SARS': 1, 'CXCL10': 1, 'CIN': 1, 'CXCR3': 1, 'KDM6B': 1, 'MCC': 1, 'H3': 1, 'EZHIP': 1, 'USP22': 1, 'PR': 1, 'SOCS1': 1, 'CD28': 1, 'CAR': 1, 'DC': 1, 'GILT': 1, 'CSF1R': 1, 'MCSF': 1, 'LNP': 1, 'OF': 1, 'HSPA1B': 1, 'HSPA1A': 1, 'HSPH1': 1, 'HSP90AA1': 1, 'PCA': 1, 'C2': 1, 'HSPA8': 1, 'C1': 1, 'GATA3': 1, 'AR': 1, 'NP': 1, 'PTPN22': 1, 'GC': 1, 'MGMT': 1, 'STAT3': 1, 'SEMA': 1, 'NRP1': 1, 'ATR': 1, 'TP53': 1, 'WEE1': 1, 'CD233': 1}\n"
     ]
    }
   ],
   "source": [
    "q = 'PDL1'\n",
    "cancer_papers, org_count, gen_count = get_types_and_genes(q)"
   ]
  },
  {
   "cell_type": "code",
   "execution_count": 8,
   "metadata": {
    "pycharm": {
     "name": "#%%\n"
    }
   },
   "outputs": [
    {
     "name": "stdout",
     "output_type": "stream",
     "text": [
      "Found 62 relevant papers\n",
      "16 associated cancer types\n",
      "{'lung': 16, 'breast': 12, 'melanoma': 9, 'liver': 4, 'bladder': 4, 'prostate': 3, 'cervical': 3, 'brain': 2, 'colon': 2, 'kidney': 2, 'rectum': 1, 'testicular': 1, 'uterine': 1, 'pancreatic': 1, 'stomach': 1, 'leukemia': 1}\n",
      "110 associated genes\n",
      "{'PD1': 19, 'CTLA4': 9, 'CD4': 6, 'OS': 5, 'B': 4, 'LAG3': 4, 'IFN': 3, 'HCC': 3, 'M1': 3, 'TNF': 2, 'spatial': 2, 'CD274': 2, 'BRAF': 2, 'KRAS': 2, 'FOXP3': 2, 'p53': 2, 'TIGIT': 2, 'PDCD1': 2, 'P3': 2, 'METTL15': 1, 'RS': 1, 'DSP': 1, 'MB': 1, 'H1': 1, 'SAP': 1, 'B7': 1, 'CIT': 1, 'Ki': 1, 'LSD1': 1, 'DCR': 1, 'HR': 1, 'GO': 1, 'GPI': 1, 'PGK1': 1, 'RPE': 1, 'CD25': 1, 'HER2': 1, 'CSNK2A1': 1, 'COL5A1': 1, 'EFNA3': 1, 'CCNA2': 1, 'PDL2': 1, 'PSA': 1, 'CD5L': 1, 'EGFR': 1, 'p65': 1, 'NF': 1, 'SRF': 1, 'MDM4': 1, 'MDM2': 1, 'STC1': 1, 'ADP': 1, 'PARP1': 1, 'ER': 1, 'GZMB': 1, 'HAVCR2': 1, 'CXCL9': 1, 'AKT': 1, 'PI3K': 1, 'KCNJ12': 1, 'SLC6A11': 1, 'ALPP': 1, 'FOLR3': 1, 'IGFN1': 1, 'FOXM1': 1, 'AFP': 1, 'GPC3': 1, 'ROBO1': 1, 'NRAS': 1, 'NIR': 1, 'SARS': 1, 'CXCL10': 1, 'CIN': 1, 'CXCR3': 1, 'KDM6B': 1, 'MCC': 1, 'H3': 1, 'EZHIP': 1, 'USP22': 1, 'PR': 1, 'SOCS1': 1, 'CD28': 1, 'CAR': 1, 'DC': 1, 'GILT': 1, 'CSF1R': 1, 'MCSF': 1, 'LNP': 1, 'OF': 1, 'HSPA1B': 1, 'HSPA1A': 1, 'HSPH1': 1, 'HSP90AA1': 1, 'PCA': 1, 'C2': 1, 'HSPA8': 1, 'C1': 1, 'GATA3': 1, 'AR': 1, 'NP': 1, 'PTPN22': 1, 'GC': 1, 'MGMT': 1, 'STAT3': 1, 'SEMA': 1, 'NRP1': 1, 'ATR': 1, 'TP53': 1, 'WEE1': 1, 'CD233': 1}\n"
     ]
    }
   ],
   "source": [
    "q = 'PDL1'\n",
    "buzz_words = {'cancer', 'melanoma', 'leukemia'}\n",
    "cancer_papers, org_count, gen_count = get_types_and_genes(q, buzz_words=buzz_words)"
   ]
  },
  {
   "cell_type": "code",
   "execution_count": 9,
   "metadata": {
    "pycharm": {
     "name": "#%%\n"
    }
   },
   "outputs": [
    {
     "name": "stdout",
     "output_type": "stream",
     "text": [
      "The potential combinational immunotherapiesfor treatment of hepatocellular carcinoma.\n",
      "{'HCC', 'PD1'}\n",
      "Cullin3 deficiency shapes tumor microenvironment and promotes cholangiocarcinoma in liver-specific Smad4/Pten mutant mice.\n",
      "{'liver'}\n",
      "Addition of immunotherapy to chemotherapy for metastatic triple-negative breast cancer: A systematic review and meta-analysis of randomized clinical trials.\n",
      "{'breast'}\n",
      "{'PD1', 'CI', 'HR', 'OS'}\n",
      "Explore association of genes in PDL1/PD1 pathway to radiotherapy survival benefit based on interaction model strategy.\n",
      "{'RS', 'OS'}\n",
      "Multifaceted glycoadjuvant@AuNPs inhibits tumor metastasis through promoting T cell activation and remodeling tumor microenvironment.\n",
      "{'melanoma'}\n",
      "{'M1', 'PD1', 'DC', 'B'}\n",
      "Circular RNA CELF1 drives immunosuppression and anti-PD1 therapy resistance in non-small cell lung cancer via the miR-491-5p/EGFR axis.\n",
      "{'lung'}\n",
      "{'CCK', 'EGFR'}\n",
      "Tumor Microenvironment Profiles Reveal Distinct Therapy-Oriented Proteogenomic Characteristics in Colorectal Cancer.\n",
      "{'spatial', 'DSP'}\n",
      "Impact of Antibiotics and Proton Pump Inhibitors on Efficacy and Tolerance of Anti-PD-1 Immune Checkpoint Inhibitors.\n",
      "{'melanoma', 'lung'}\n",
      "{'PD1', 'CI', 'HR', 'OS'}\n",
      "Novel immune targets for the treatment of triple-negative breast cancer.\n",
      "{'breast'}\n",
      "{'LAG3', 'PD1', 'ICOS', 'TIM3'}\n",
      "Immunotherapy for Stage III NSCLC: Durvalumab and Beyond.\n",
      "{'lung'}\n",
      "{'PDL1', 'PD1'}\n",
      "Surface engineering of oncolytic adenovirus for a combination of immune checkpoint blockade and virotherapy.\n",
      "{'PD1'}\n",
      "Immune-checkpoint inhibitors in renal transplanted patients affected by melanoma: a systematic review.\n",
      "{'melanoma', 'kidney'}\n",
      "{'PD1', 'CTLA4'}\n",
      "Construction of an Immune Cell Infiltration Score to Evaluate the Prognosis and Therapeutic Efficacy of Ovarian Cancer Patients.\n",
      "{'ovarian'}\n",
      "{'L2', 'PCA', 'PD1', 'CTLA4', 'B', 'OS'}\n",
      "Targeting Endoglin Expressing Cells in the Tumor Microenvironment Does Not Inhibit Tumor Growth in a Pancreatic Cancer Mouse Model.\n",
      "{'pancreatic'}\n",
      "{'PD1'}\n",
      "Lung Cancer in Women.\n",
      "{'lung'}\n",
      "{'PD1', 'CI', 'HR'}\n",
      "Major pathological response and durable locoregional control after neoadjuvant pembrolizumab-carboplatin-paclitaxel in head and neck cancer.\n",
      "{'PDL1'}\n",
      "A Tumor-Targeting Metal-Organic Nanoparticle Constructed by Dynamic Combinatorial Chemistry toward Accurately Redressing Carcinogenic Wnt Cascade.\n",
      "{'melanoma', 'pancreatic'}\n",
      "{'DCC', 'PD1'}\n",
      "Mucosal-Associated Invariant T (MAIT) Cell Dysfunction and PD-1 Expression in Prostate Cancer: Implications for Immunotherapy.\n",
      "{'melanoma', 'prostate'}\n",
      "{'PD1', 'MR', 'L2'}\n",
      "DPP inhibition alters the CXCR3 axis and enhances NK and CD8+ T cell infiltration to improve anti-PD1 efficacy in murine models of pancreatic ductal adenocarcinoma.\n",
      "{'pancreatic'}\n",
      "{'DPP8', 'CXCR3', 'CXCL9', 'PD1', 'DPP4'}\n",
      "DNA Vaccines Targeting Novel Cancer-Associated Antigens Frequently Expressed in Head and Neck Cancer Enhance the Efficacy of Checkpoint Inhibitor.\n",
      "{'FJX1', 'PD1', 'MAGED4B'}\n",
      "Radiogenomics Map Reveals the Landscape of m6A Methylation Modification Pattern in Bladder Cancer.\n",
      "{'bladder'}\n",
      "{'PD1', 'CTLA4'}\n",
      "Stratification of chemotherapy-treated stage III colorectal cancer patients using multiplexed imaging and single-cell analysis of T-cell populations.\n",
      "SLAMF7 and TREM1 Mediate Immunogenic Cell Death in Colorectal Cancer Cells: Focus on Microsatellite Stability.\n",
      "{'TREM1', 'SLAMF7', 'HMGB1', 'DLD'}\n",
      "\n",
      "{'GC', 'PD1', 'SLAMF8'}\n",
      "Potential role of immune cell genetic variants associated with tumor microenvironment response in laryngeal squamous cell carcinoma (LSCC) in terms of clinicopathological features.\n",
      "{'AC', 'CD27', 'CT', 'CD28', 'PD1', 'LD'}\n",
      "A nomogram-based immunoprofile predicts clinical outcomes for stage II and III human colorectal cancer.\n",
      "{'CD4'}\n",
      "A Dual PI3K/HDAC Inhibitor Induces Immunogenic Ferroptosis to Potentiate Cancer Immune Checkpoint Therapy.\n",
      "{'PI3K', 'STAT1', 'PD1', 'p53', 'HDAC'}\n",
      "Clinical determinants of long-term survival in metastatic uveal melanoma.\n",
      "{'liver', 'melanoma'}\n",
      "{'PD1', 'CI', 'CTLA4', 'B', 'OS', 'HR'}\n",
      "Development and validation of a novel lipid metabolism-related gene prognostic signature and candidate drugs for patients with bladder cancer.\n",
      "{'bladder'}\n",
      "{'LAG3', 'HAVCR2', 'AMPK', 'PD1', 'ABS', 'CTLA4', 'LRG'}\n",
      "Pembrolizumab in endometrial cancer: Where we stand now.\n",
      "Immune checkpoint inhibition for the treatment of cancers: An update and critical review of ongoing clinical trials.\n",
      "{'lung'}\n",
      "{'NHL', 'PD1', 'CTLA4', 'HCC', 'HL'}\n",
      "Development and validation of a host-dependent, PDL1-independent, biomarker to predict 6-month progression-free survival in metastatic non-small cell lung cancer (mNSCLC) patients treated with anti-PD1 immune checkpoint inhibitors (ICI) in the CERTIM Cohort: The ELY study.\n",
      "{'lung'}\n",
      "{'DCR', 'HR', 'OS'}\n",
      "LncRNAs in the Regulation of Genes and Signaling Pathways through miRNA-Mediated and Other Mechanisms in Clear Cell Renal Cell Carcinoma.\n",
      "{'kidney'}\n",
      "{'PD1', 'TUG1'}\n",
      "Pyroptosis Patterns Characterized by Distinct Tumor Microenvironment Infiltration Landscapes in Gastric Cancer.\n",
      "{'GC', 'PD1', 'PR'}\n",
      "Overcoming Resistance to Immunotherapy in Advanced Cutaneous Squamous Cell Carcinoma.\n",
      "{'melanoma'}\n",
      "{'PD1'}\n",
      "Extracellular Matrix-Associated Pathways Promote the Progression of Gastric Cancer by Impacting the Dendritic Cell Axis.\n",
      "{'stomach'}\n",
      "{'IFN', 'ECM', 'CI', 'CTLA4', 'PD1', 'GC', 'HR'}\n",
      "AXL inhibitor TP-0903 reduces metastasis and therapy resistance in pancreatic cancer.\n",
      "{'pancreatic'}\n",
      "{'AXL', 'PD1', 'TP'}\n",
      "Identification of novel subtypes based on ssGSEA in immune-related prognostic signature for tongue squamous cell carcinoma.\n",
      "{'PDL1', 'GO', 'GPI', 'PGK1', 'PD1', 'B', 'RPE'}\n",
      "Morphological and genomic characteristics of breast cancers occurring in individuals with Lynch Syndrome.\n",
      "{'colon', 'breast'}\n",
      "{'PD1'}\n",
      "Systemic Therapy for Metastatic Pancreatic Cancer.\n",
      "{'pancreatic'}\n",
      "{'FU', 'BRCA1', 'PD1', 'FA', 'PARP'}\n",
      "Combining immune checkpoint inhibitors with chemotherapy in advanced solid tumours: A review.\n",
      "{'bladder', 'lung'}\n",
      "{'PD1'}\n",
      "KIF2C Is a Novel Prognostic Biomarker and Correlated with Immune Infiltration in Endometrial Cancer.\n",
      "{'KIF2C'}\n",
      "Tumor DNA-methylome derived epigenetic fingerprint identifies HPV-negative head and neck patients at risk for locoregional recurrence after postoperative radiochemotherapy.\n",
      "{'PD1'}\n",
      "Hepatotoxicity associated with PD-1 blockade antibodies in cancer patients co-infected with hepatitis B virus.\n",
      "{'liver'}\n",
      "{'PD1', 'AST', 'B'}\n",
      "The RXR Agonist MSU42011 Is Effective for the Treatment of Preclinical HER2+ Breast Cancer and Kras-Driven Lung Cancer.\n",
      "{'breast', 'lung'}\n",
      "{'PDL1', 'PD1', 'CD25', 'HER2', 'CD4'}\n",
      "Lung Cancer Surgery after Treatment with Anti-PD1/PD-L1 Immunotherapy for Non-Small-Cell Lung Cancer: A Case-Cohort Study.\n",
      "{'lung'}\n",
      "Management of Resectable Stage III-N2 Non-Small-Cell Lung Cancer (NSCLC) in the Age of Immunotherapy.\n",
      "{'lung'}\n",
      "A mouse model for the study of anti-tumor T cell responses in Kras-driven lung adenocarcinoma.\n",
      "{'lung'}\n",
      "{'EPCAM', 'PD1', 'CTLA4'}\n",
      "Pan-cancer analysis reveals homologous recombination deficiency score as a predictive marker for immunotherapy responders.\n",
      "{'ovarian', 'breast', 'bladder', 'lung'}\n",
      "{'PD1', 'CTLA4'}\n",
      "Combination of immunotherapy and other targeted therapies in advanced cutaneous melanoma.\n",
      "{'brain', 'melanoma'}\n",
      "{'BRAF', 'OS'}\n",
      "Immunotherapy-induced isolated ACTH deficiency in cancer therapy.\n",
      "{'melanoma', 'lung'}\n",
      "{'PD1', 'ACTH'}\n",
      "Checkpoint inhibitors, fertility, pregnancy, and sexual life: a systematic review.\n",
      "{'melanoma', 'breast'}\n",
      "{'PDL1', 'PD1', 'CTLA4'}\n",
      "Found 52 relevant papers\n",
      "12 associated cancer types\n",
      "{'lung': 13, 'melanoma': 10, 'breast': 6, 'pancreatic': 5, 'bladder': 4, 'liver': 3, 'kidney': 2, 'ovarian': 2, 'prostate': 1, 'stomach': 1, 'colon': 1, 'brain': 1}\n",
      "71 associated genes\n",
      "{'CTLA4': 10, 'OS': 7, 'HR': 6, 'CI': 5, 'B': 5, 'PDL1': 5, 'GC': 3, 'HCC': 2, 'LAG3': 2, 'L2': 2, 'CD4': 2, 'RS': 1, 'M1': 1, 'DC': 1, 'CCK': 1, 'EGFR': 1, 'spatial': 1, 'DSP': 1, 'ICOS': 1, 'TIM3': 1, 'PCA': 1, 'DCC': 1, 'MR': 1, 'DPP8': 1, 'CXCR3': 1, 'CXCL9': 1, 'DPP4': 1, 'FJX1': 1, 'MAGED4B': 1, 'TREM1': 1, 'SLAMF7': 1, 'HMGB1': 1, 'DLD': 1, 'SLAMF8': 1, 'AC': 1, 'CD27': 1, 'CT': 1, 'CD28': 1, 'LD': 1, 'PI3K': 1, 'STAT1': 1, 'p53': 1, 'HDAC': 1, 'HAVCR2': 1, 'AMPK': 1, 'ABS': 1, 'LRG': 1, 'NHL': 1, 'HL': 1, 'DCR': 1, 'TUG1': 1, 'PR': 1, 'IFN': 1, 'ECM': 1, 'AXL': 1, 'TP': 1, 'GO': 1, 'GPI': 1, 'PGK1': 1, 'RPE': 1, 'FU': 1, 'BRCA1': 1, 'FA': 1, 'PARP': 1, 'KIF2C': 1, 'AST': 1, 'CD25': 1, 'HER2': 1, 'EPCAM': 1, 'BRAF': 1, 'ACTH': 1}\n"
     ]
    }
   ],
   "source": [
    "q = 'PD1'\n",
    "cancer_papers, org_count, gen_count = get_types_and_genes(q, verbose=2)"
   ]
  },
  {
   "cell_type": "code",
   "execution_count": 10,
   "metadata": {
    "pycharm": {
     "name": "#%%\n"
    }
   },
   "outputs": [
    {
     "name": "stdout",
     "output_type": "stream",
     "text": [
      "Exploration of the prognostic signature reflecting tumor microenvironment of lung adenocarcinoma based on immunologically relevant genes.\n",
      "{'lung'}\n",
      "{'VEGFD', 'BTK', 'INSL4', 'PIK3CG', 'PTPRC', 'INHA'}\n",
      "INSL4 as prognostic marker for proliferation and invasiveness in Non-Small-Cell Lung Cancer.\n",
      "{'lung'}\n",
      "{'INSL4'}\n",
      "Identification of a Novel Tumor Microenvironment-Associated Eight-Gene Signature for Prognosis Prediction in Lung Adenocarcinoma.\n",
      "{'lung'}\n",
      "{'MS4A1', 'SCN7A', 'STAP1', 'P2RX1', 'KLRB1', 'INSL4', 'Mast', 'B', 'IKZF3', 'ACSM5'}\n",
      "Role of INSL4 Signaling in Sustaining the Growth and Viability of LKB1-Inactivated Lung Cancer.\n",
      "{'lung'}\n",
      "{'LKB1', 'INSL4', 'IGF'}\n",
      "Relaxin-like peptides in male reproduction - a human perspective.\n",
      "{'brain', 'prostate', 'testicular'}\n",
      "{'INSL3', 'INSL4', 'INSL6', 'INSL5', 'H2'}\n",
      "DNA methylation signatures identify biologically distinct thyroid cancer subtypes.\n",
      "{'thyroid'}\n",
      "{'NOTCH4', 'ZIC1', 'ADAMTS8', 'INSL4', 'MAP17', 'HOXB4', 'DPPA2', 'KISS1R', 'TCL1B'}\n",
      "[Expression of early placenta insulin-like growth factor (EPIL) in breast cancer cells provides an autocrine loop with enhancement of predominantly HER-2-related invasivity].\n",
      "{'breast'}\n",
      "{'EPIL'}\n",
      "Expression of early placenta insulin-like growth factor in breast cancer cells provides an autocrine loop that predominantly enhances invasiveness and motility.\n",
      "{'breast'}\n",
      "{'EPIL'}\n",
      "Transcriptional expression of genes involved in cell invasion and migration by normal and tumoral trophoblast cells.\n",
      "{'BRMS1', 'INSL4'}\n",
      "Early placenta insulin-like growth factor (pro-EPIL) is overexpressed and secreted by c-erbB-2-positive cells with high invasion potential.\n",
      "{'breast'}\n",
      "{'EPIL'}\n",
      "Found 10 relevant papers\n",
      "6 associated cancer types\n",
      "{'lung': 4, 'breast': 3, 'brain': 1, 'prostate': 1, 'testicular': 1, 'thyroid': 1}\n",
      "30 associated genes\n",
      "{'EPIL': 3, 'VEGFD': 1, 'BTK': 1, 'PIK3CG': 1, 'PTPRC': 1, 'INHA': 1, 'MS4A1': 1, 'SCN7A': 1, 'STAP1': 1, 'P2RX1': 1, 'KLRB1': 1, 'Mast': 1, 'B': 1, 'IKZF3': 1, 'ACSM5': 1, 'LKB1': 1, 'IGF': 1, 'INSL3': 1, 'INSL6': 1, 'INSL5': 1, 'H2': 1, 'NOTCH4': 1, 'ZIC1': 1, 'ADAMTS8': 1, 'MAP17': 1, 'HOXB4': 1, 'DPPA2': 1, 'KISS1R': 1, 'TCL1B': 1, 'BRMS1': 1}\n"
     ]
    }
   ],
   "source": [
    "q = 'INSL4'\n",
    "cancer_papers, org_count, gen_count = get_types_and_genes(q, verbose=2)"
   ]
  }
 ],
 "metadata": {
  "kernelspec": {
   "display_name": "PyCharm (challenge)",
   "language": "python",
   "name": "pycharm-37148714"
  },
  "language_info": {
   "codemirror_mode": {
    "name": "ipython",
    "version": 3
   },
   "file_extension": ".py",
   "mimetype": "text/x-python",
   "name": "python",
   "nbconvert_exporter": "python",
   "pygments_lexer": "ipython3",
   "version": "3.8.10"
  }
 },
 "nbformat": 4,
 "nbformat_minor": 4
}
